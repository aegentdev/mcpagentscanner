{
 "cells": [
  {
   "cell_type": "code",
   "execution_count": 1,
   "metadata": {},
   "outputs": [
    {
     "name": "stdout",
     "output_type": "stream",
     "text": [
      "/data/home/eak/learning/nganga_ai/imbizopm/ImbizoPM\n"
     ]
    }
   ],
   "source": [
    "%cd .."
   ]
  },
  {
   "cell_type": "code",
   "execution_count": 2,
   "metadata": {},
   "outputs": [],
   "source": [
    "from imbizopm_agents.dtypes import (\n",
    "    ProjectPlan,\n",
    "    ProjectPlanOutput,\n",
    "    ProjectSummary,\n",
    "    ScopeDefinition,\n",
    "    TaskPlan,\n",
    "    ProjectTimeline,\n",
    "    FeasibilityAssessment,\n",
    "    ConflictResolution,\n",
    "    PlanValidation,\n",
    ")"
   ]
  },
  {
   "cell_type": "code",
   "execution_count": 3,
   "metadata": {},
   "outputs": [
    {
     "data": {
      "text/plain": [
       "ProjectPlan(refined_idea='Develop a mobile application that helps users track and reduce their carbon footprint through daily habit changes', goals=['Create a user-friendly interface that allows users to log daily activities', 'Implement a carbon footprint calculator that provides real-time feedback', 'Design a gamified reward system to incentivize sustainable behaviors', 'Achieve 10,000 active users within 6 months of launch'], constraints=['The application must be completed within a 4-month timeframe', 'The development budget is limited to $50,000', 'The app must comply with GDPR and other data privacy regulations', 'Must be compatible with both iOS and Android platforms'], success_metrics=['95% user satisfaction rate measured through post-launch surveys', '50% reduction in processing time compared to previous system', '20% increase in user engagement within first 3 months', 'Zero critical security vulnerabilities in penetration testing'], deliverables=[Deliverable(name='User Authentication System', description='A secure login system with multi-factor authentication capability and password recovery functionality'), Deliverable(name='Analytics Dashboard', description='An interactive dashboard displaying key performance metrics with customizable views and export capabilities'), Deliverable(name='API Documentation', description='Comprehensive documentation of all API endpoints including request/response formats, authentication requirements, and example code'), Deliverable(name='Deployment Guide', description='Step-by-step instructions for system deployment in various environments with troubleshooting information')])"
      ]
     },
     "execution_count": 3,
     "metadata": {},
     "output_type": "execute_result"
    }
   ],
   "source": [
    "ProjectPlan.model_validate(ProjectPlan.example())"
   ]
  },
  {
   "cell_type": "code",
   "execution_count": 4,
   "metadata": {},
   "outputs": [],
   "source": [
    "for k, v in ProjectPlanOutput.example().items():\n",
    "\tProjectPlanOutput.model_validate(v)"
   ]
  },
  {
   "cell_type": "code",
   "execution_count": 5,
   "metadata": {},
   "outputs": [
    {
     "data": {
      "text/plain": [
       "ProjectSummary(executive_summary=\"The Customer Portal Redesign project will modernize our client-facing portal to improve user experience, increase self-service capabilities, and reduce support calls by 30%. Using agile methodology, we'll deliver a mobile-responsive, accessible platform with enhanced security features over a 6-month timeline.\", project_overview=ProjectOverview(name='Customer Portal Redesign', description='Complete overhaul of the existing customer portal with modern UX/UI, expanded functionality, and improved performance', timeline='January 15, 2023 to July 15, 2023 (6 months)', objectives=['Increase customer self-service adoption by 50%', 'Reduce support call volume by 30%', 'Improve customer satisfaction scores from 3.2 to 4.5 (out of 5)', 'Ensure WCAG 2.1 AA accessibility compliance'], key_stakeholders=['VP of Customer Experience', 'Director of IT', 'Customer Support Manager', 'UX Research Team', 'Customer Advisory Board']), key_milestones=[Milestone(name='Requirements & Design Approval', date='February 28, 2023', deliverables=['Approved requirements document', 'Signed-off wireframes and designs', 'Technical architecture plan']), Milestone(name='Alpha Release', date='April 30, 2023', deliverables=['Functioning prototype with core features', 'Internal testing results', 'Performance benchmarks']), Milestone(name='Beta Release', date='June 15, 2023', deliverables=['Complete feature set', 'User acceptance testing results', 'Migration plan']), Milestone(name='Production Launch', date='July 15, 2023', deliverables=['Fully tested production environment', 'Customer communication materials', 'Support documentation and training'])], resource_requirements=[ResourceRequirement(role='Project Manager', allocation='Full-time', skills=['Agile methodology', 'Stakeholder management', 'Risk management']), ResourceRequirement(role='UX/UI Designer', allocation='Full-time for first 3 months, part-time after', skills=['User research', 'Wireframing', 'Accessibility standards', 'Design systems']), ResourceRequirement(role='Frontend Developer', allocation='Full-time (2 resources)', skills=['React', 'TypeScript', 'Responsive design', 'API integration']), ResourceRequirement(role='Backend Developer', allocation='Full-time (2 resources)', skills=['Node.js', 'GraphQL', 'Database optimization', 'Authentication systems']), ResourceRequirement(role='QA Engineer', allocation='Part-time initially, full-time during testing phases', skills=['Automated testing', 'Performance testing', 'Accessibility testing'])], top_risks=[RiskAssessment(name='Integration with legacy systems complexity', impact='High', mitigation_strategy='Early technical spike to assess integration points; allocate additional buffer for integration work'), RiskAssessment(name='Slow user adoption due to change resistance', impact='Medium', mitigation_strategy='Develop comprehensive change management plan; involve customer representatives early in the process'), RiskAssessment(name='Security vulnerabilities in new architecture', impact='High', mitigation_strategy='Conduct security review at architecture phase; implement regular penetration testing')], next_steps=['Schedule kickoff meeting with all stakeholders by January 10', 'Finalize project charter and get sign-off by January 17', 'Begin user research interviews by January 20', 'Set up development environment and CI/CD pipeline by January 25'], pm_tool_export=PMToolExport(tasks=[Task(id='TASK-001', title='User Research', description='Conduct interviews and surveys to understand user needs for the new portal.', assignees=['UX Team'], due_date='2023-02-10'), Task(id='TASK-002', title='Wireframe Creation', description='Develop low-fidelity wireframes based on user research.', assignees=['UX Team'], due_date='2023-02-25'), Task(id='TASK-003', title='Technical Architecture Design', description='Define the technical stack, data models, and integration points.', assignees=['Tech Lead'], due_date='2023-02-20')], milestones=[Milestone(name='Requirements & Design Approval', date='2023-02-28', deliverables=['Approved requirements', 'Signed-off designs']), Milestone(name='Alpha Release', date='2023-04-30', deliverables=['Functioning prototype']), Milestone(name='Beta Release', date='2023-06-15', deliverables=['Complete feature set', 'UAT results']), Milestone(name='Production Launch', date='2023-07-15', deliverables=['Live portal', 'Support docs'])], dependencies=[Dependency(from_task='TASK-001', to_task='TASK-002'), Dependency(from_task='TASK-002', to_task='MS-001'), Dependency(from_task='TASK-003', to_task='MS-001')], resources=[ResourceLink(name='John Smith (PM)', type='person', linked_task_ids=['TASK-001', 'TASK-002', 'TASK-003']), ResourceLink(name='UX Team', type='team', linked_task_ids=['TASK-001', 'TASK-002']), ResourceLink(name='Jira', type='tool', linked_task_ids=['TASK-001', 'TASK-002', 'TASK-003'])]))"
      ]
     },
     "execution_count": 5,
     "metadata": {},
     "output_type": "execute_result"
    }
   ],
   "source": [
    "ProjectSummary.model_validate(ProjectSummary.example())"
   ]
  },
  {
   "cell_type": "code",
   "execution_count": 6,
   "metadata": {},
   "outputs": [],
   "source": [
    "for k, v in ScopeDefinition.example().items():\n",
    "\tScopeDefinition.model_validate(v)"
   ]
  },
  {
   "cell_type": "code",
   "execution_count": 7,
   "metadata": {},
   "outputs": [],
   "source": [
    "for k, v in TaskPlan.example().items():\n",
    "\tTaskPlan.model_validate(v)"
   ]
  },
  {
   "cell_type": "code",
   "execution_count": 8,
   "metadata": {},
   "outputs": [
    {
     "data": {
      "text/plain": [
       "ProjectTimeline(task_durations={'TASK-001': TaskDuration(start='T+0', end='T+5'), 'TASK-002': TaskDuration(start='T+0', end='T+3'), 'TASK-003': TaskDuration(start='T+3', end='T+8'), 'TASK-004': TaskDuration(start='T+5', end='T+10'), 'TASK-005': TaskDuration(start='T+8', end='T+12'), 'TASK-006': TaskDuration(start='T+10', end='T+15')}, milestones=['M1: Project Kickoff (T+0)', 'M2: Requirements Finalized (T+5)', 'M3: Design Complete (T+10)', 'M4: Development Complete (T+15)', 'M5: Testing Complete (T+20)', 'M6: Project Launch (T+22)'], critical_path=['TASK-001', 'TASK-004', 'TASK-006'])"
      ]
     },
     "execution_count": 8,
     "metadata": {},
     "output_type": "execute_result"
    }
   ],
   "source": [
    "ProjectTimeline.model_validate(ProjectTimeline.example())"
   ]
  },
  {
   "cell_type": "code",
   "execution_count": 9,
   "metadata": {},
   "outputs": [],
   "source": [
    "for k, v in FeasibilityAssessment.example().items():\n",
    "\tFeasibilityAssessment.model_validate(v)"
   ]
  },
  {
   "cell_type": "code",
   "execution_count": 10,
   "metadata": {},
   "outputs": [
    {
     "data": {
      "text/plain": [
       "ConflictResolution(conflict_area='scope', negotiation=NegotiationDetails(items=[ResolutionIssue(issue='Feature X exceeds original project boundaries', proposed_solution='Reduce scope of Feature X to core functionality only'), ResolutionIssue(issue='Stakeholders disagree on the priority of mobile vs. desktop features', proposed_solution='Phase implementation with mobile features in first release'), ResolutionIssue(issue='Technical limitations make certain requested features difficult to implement', proposed_solution='Use alternative technical approach that satisfies 80% of requirements'), ResolutionIssue(issue='Unclear requirements for reporting module', proposed_solution=None)], priorities=['Maintaining original timeline', 'Ensuring core user needs are addressed', 'Balancing technical feasibility with stakeholder expectations']))"
      ]
     },
     "execution_count": 10,
     "metadata": {},
     "output_type": "execute_result"
    }
   ],
   "source": [
    "ConflictResolution.model_validate(ConflictResolution.example())"
   ]
  },
  {
   "cell_type": "code",
   "execution_count": 11,
   "metadata": {},
   "outputs": [],
   "source": [
    "for k, v in PlanValidation.example().items():\n",
    "\tPlanValidation.model_validate(v)"
   ]
  },
  {
   "cell_type": "code",
   "execution_count": 12,
   "metadata": {},
   "outputs": [
    {
     "name": "stdout",
     "output_type": "stream",
     "text": [
      "conflict_area: scope\n",
      "negotiation:\n",
      "    items:\n",
      "    -   issue: Feature X exceeds original project boundaries\n",
      "        proposed_solution: Reduce scope of Feature X to core functionality only\n",
      "    -   issue: Stakeholders disagree on the priority of mobile vs. desktop features\n",
      "        proposed_solution: Phase implementation with mobile features in first release\n",
      "    -   issue: Technical limitations make certain requested features difficult to\n",
      "            implement\n",
      "        proposed_solution: Use alternative technical approach that satisfies 80% of\n",
      "            requirements\n",
      "    -   issue: Unclear requirements for reporting module\n",
      "        proposed_solution: null\n",
      "    priorities:\n",
      "    - Maintaining original timeline\n",
      "    - Ensuring core user needs are addressed\n",
      "    - Balancing technical feasibility with stakeholder expectations\n",
      "\n"
     ]
    }
   ],
   "source": [
    "from imbizopm_agents.prompts.utils import dumps_to_yaml\n",
    "\n",
    "\n",
    "x = dumps_to_yaml(ConflictResolution.model_validate(ConflictResolution.example()))\n",
    "\n",
    "print(x)"
   ]
  },
  {
   "cell_type": "code",
   "execution_count": null,
   "metadata": {},
   "outputs": [],
   "source": []
  }
 ],
 "metadata": {
  "kernelspec": {
   "display_name": ".venv",
   "language": "python",
   "name": "python3"
  },
  "language_info": {
   "codemirror_mode": {
    "name": "ipython",
    "version": 3
   },
   "file_extension": ".py",
   "mimetype": "text/x-python",
   "name": "python",
   "nbconvert_exporter": "python",
   "pygments_lexer": "ipython3",
   "version": "3.10.13"
  }
 },
 "nbformat": 4,
 "nbformat_minor": 2
}
